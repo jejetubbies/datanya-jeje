{
 "cells": [
  {
   "cell_type": "code",
   "execution_count": 1,
   "id": "39448d98",
   "metadata": {},
   "outputs": [],
   "source": [
    "import pandas as pd\n",
    "import matplotlib.pyplot as plt \n",
    "import seaborn as sns\n",
    "import datetime as dt"
   ]
  },
  {
   "cell_type": "code",
   "execution_count": 2,
   "id": "0684d333",
   "metadata": {},
   "outputs": [
    {
     "name": "stdout",
     "output_type": "stream",
     "text": [
      "(119390, 32)\n"
     ]
    },
    {
     "data": {
      "text/html": [
       "<div>\n",
       "<style scoped>\n",
       "    .dataframe tbody tr th:only-of-type {\n",
       "        vertical-align: middle;\n",
       "    }\n",
       "\n",
       "    .dataframe tbody tr th {\n",
       "        vertical-align: top;\n",
       "    }\n",
       "\n",
       "    .dataframe thead th {\n",
       "        text-align: right;\n",
       "    }\n",
       "</style>\n",
       "<table border=\"1\" class=\"dataframe\">\n",
       "  <thead>\n",
       "    <tr style=\"text-align: right;\">\n",
       "      <th></th>\n",
       "      <th>hotel</th>\n",
       "      <th>is_canceled</th>\n",
       "      <th>lead_time</th>\n",
       "      <th>arrival_date_year</th>\n",
       "      <th>arrival_date_month</th>\n",
       "      <th>arrival_date_week_number</th>\n",
       "      <th>arrival_date_day_of_month</th>\n",
       "      <th>stays_in_weekend_nights</th>\n",
       "      <th>stays_in_week_nights</th>\n",
       "      <th>adults</th>\n",
       "      <th>...</th>\n",
       "      <th>deposit_type</th>\n",
       "      <th>agent</th>\n",
       "      <th>company</th>\n",
       "      <th>days_in_waiting_list</th>\n",
       "      <th>customer_type</th>\n",
       "      <th>adr</th>\n",
       "      <th>required_car_parking_spaces</th>\n",
       "      <th>total_of_special_requests</th>\n",
       "      <th>reservation_status</th>\n",
       "      <th>reservation_status_date</th>\n",
       "    </tr>\n",
       "  </thead>\n",
       "  <tbody>\n",
       "    <tr>\n",
       "      <th>0</th>\n",
       "      <td>Resort Hotel</td>\n",
       "      <td>0</td>\n",
       "      <td>342</td>\n",
       "      <td>2015</td>\n",
       "      <td>July</td>\n",
       "      <td>27</td>\n",
       "      <td>1</td>\n",
       "      <td>0</td>\n",
       "      <td>0</td>\n",
       "      <td>2</td>\n",
       "      <td>...</td>\n",
       "      <td>No Deposit</td>\n",
       "      <td>NaN</td>\n",
       "      <td>NaN</td>\n",
       "      <td>0</td>\n",
       "      <td>Transient</td>\n",
       "      <td>0.0</td>\n",
       "      <td>0</td>\n",
       "      <td>0</td>\n",
       "      <td>Check-Out</td>\n",
       "      <td>2015-07-01</td>\n",
       "    </tr>\n",
       "    <tr>\n",
       "      <th>1</th>\n",
       "      <td>Resort Hotel</td>\n",
       "      <td>0</td>\n",
       "      <td>737</td>\n",
       "      <td>2015</td>\n",
       "      <td>July</td>\n",
       "      <td>27</td>\n",
       "      <td>1</td>\n",
       "      <td>0</td>\n",
       "      <td>0</td>\n",
       "      <td>2</td>\n",
       "      <td>...</td>\n",
       "      <td>No Deposit</td>\n",
       "      <td>NaN</td>\n",
       "      <td>NaN</td>\n",
       "      <td>0</td>\n",
       "      <td>Transient</td>\n",
       "      <td>0.0</td>\n",
       "      <td>0</td>\n",
       "      <td>0</td>\n",
       "      <td>Check-Out</td>\n",
       "      <td>2015-07-01</td>\n",
       "    </tr>\n",
       "    <tr>\n",
       "      <th>2</th>\n",
       "      <td>Resort Hotel</td>\n",
       "      <td>0</td>\n",
       "      <td>7</td>\n",
       "      <td>2015</td>\n",
       "      <td>July</td>\n",
       "      <td>27</td>\n",
       "      <td>1</td>\n",
       "      <td>0</td>\n",
       "      <td>1</td>\n",
       "      <td>1</td>\n",
       "      <td>...</td>\n",
       "      <td>No Deposit</td>\n",
       "      <td>NaN</td>\n",
       "      <td>NaN</td>\n",
       "      <td>0</td>\n",
       "      <td>Transient</td>\n",
       "      <td>75.0</td>\n",
       "      <td>0</td>\n",
       "      <td>0</td>\n",
       "      <td>Check-Out</td>\n",
       "      <td>2015-07-02</td>\n",
       "    </tr>\n",
       "    <tr>\n",
       "      <th>3</th>\n",
       "      <td>Resort Hotel</td>\n",
       "      <td>0</td>\n",
       "      <td>13</td>\n",
       "      <td>2015</td>\n",
       "      <td>July</td>\n",
       "      <td>27</td>\n",
       "      <td>1</td>\n",
       "      <td>0</td>\n",
       "      <td>1</td>\n",
       "      <td>1</td>\n",
       "      <td>...</td>\n",
       "      <td>No Deposit</td>\n",
       "      <td>304.0</td>\n",
       "      <td>NaN</td>\n",
       "      <td>0</td>\n",
       "      <td>Transient</td>\n",
       "      <td>75.0</td>\n",
       "      <td>0</td>\n",
       "      <td>0</td>\n",
       "      <td>Check-Out</td>\n",
       "      <td>2015-07-02</td>\n",
       "    </tr>\n",
       "    <tr>\n",
       "      <th>4</th>\n",
       "      <td>Resort Hotel</td>\n",
       "      <td>0</td>\n",
       "      <td>14</td>\n",
       "      <td>2015</td>\n",
       "      <td>July</td>\n",
       "      <td>27</td>\n",
       "      <td>1</td>\n",
       "      <td>0</td>\n",
       "      <td>2</td>\n",
       "      <td>2</td>\n",
       "      <td>...</td>\n",
       "      <td>No Deposit</td>\n",
       "      <td>240.0</td>\n",
       "      <td>NaN</td>\n",
       "      <td>0</td>\n",
       "      <td>Transient</td>\n",
       "      <td>98.0</td>\n",
       "      <td>0</td>\n",
       "      <td>1</td>\n",
       "      <td>Check-Out</td>\n",
       "      <td>2015-07-03</td>\n",
       "    </tr>\n",
       "  </tbody>\n",
       "</table>\n",
       "<p>5 rows × 32 columns</p>\n",
       "</div>"
      ],
      "text/plain": [
       "          hotel  is_canceled  lead_time  arrival_date_year arrival_date_month  \\\n",
       "0  Resort Hotel            0        342               2015               July   \n",
       "1  Resort Hotel            0        737               2015               July   \n",
       "2  Resort Hotel            0          7               2015               July   \n",
       "3  Resort Hotel            0         13               2015               July   \n",
       "4  Resort Hotel            0         14               2015               July   \n",
       "\n",
       "   arrival_date_week_number  arrival_date_day_of_month  \\\n",
       "0                        27                          1   \n",
       "1                        27                          1   \n",
       "2                        27                          1   \n",
       "3                        27                          1   \n",
       "4                        27                          1   \n",
       "\n",
       "   stays_in_weekend_nights  stays_in_week_nights  adults  ...  deposit_type  \\\n",
       "0                        0                     0       2  ...    No Deposit   \n",
       "1                        0                     0       2  ...    No Deposit   \n",
       "2                        0                     1       1  ...    No Deposit   \n",
       "3                        0                     1       1  ...    No Deposit   \n",
       "4                        0                     2       2  ...    No Deposit   \n",
       "\n",
       "   agent company days_in_waiting_list customer_type   adr  \\\n",
       "0    NaN     NaN                    0     Transient   0.0   \n",
       "1    NaN     NaN                    0     Transient   0.0   \n",
       "2    NaN     NaN                    0     Transient  75.0   \n",
       "3  304.0     NaN                    0     Transient  75.0   \n",
       "4  240.0     NaN                    0     Transient  98.0   \n",
       "\n",
       "   required_car_parking_spaces  total_of_special_requests  reservation_status  \\\n",
       "0                            0                          0           Check-Out   \n",
       "1                            0                          0           Check-Out   \n",
       "2                            0                          0           Check-Out   \n",
       "3                            0                          0           Check-Out   \n",
       "4                            0                          1           Check-Out   \n",
       "\n",
       "  reservation_status_date  \n",
       "0              2015-07-01  \n",
       "1              2015-07-01  \n",
       "2              2015-07-02  \n",
       "3              2015-07-02  \n",
       "4              2015-07-03  \n",
       "\n",
       "[5 rows x 32 columns]"
      ]
     },
     "execution_count": 2,
     "metadata": {},
     "output_type": "execute_result"
    }
   ],
   "source": [
    "hotel = pd.read_csv('C:\\\\Users\\jesica\\Downloads\\hotel_bookings.csv')\n",
    "#hotel shape at the beginning is (119390, 32)\n",
    "print(hotel.shape) \n",
    "hotel.head()"
   ]
  },
  {
   "cell_type": "code",
   "execution_count": 3,
   "id": "c386221a",
   "metadata": {},
   "outputs": [
    {
     "name": "stdout",
     "output_type": "stream",
     "text": [
      "Index(['hotel', 'is_canceled', 'lead_time', 'arrival_date_year',\n",
      "       'arrival_date_month', 'arrival_date_week_number',\n",
      "       'arrival_date_day_of_month', 'stays_in_weekend_nights',\n",
      "       'stays_in_week_nights', 'adults', 'children', 'babies', 'meal',\n",
      "       'country', 'market_segment', 'distribution_channel',\n",
      "       'is_repeated_guest', 'previous_cancellations',\n",
      "       'previous_bookings_not_canceled', 'reserved_room_type',\n",
      "       'assigned_room_type', 'booking_changes', 'deposit_type', 'agent',\n",
      "       'company', 'days_in_waiting_list', 'customer_type', 'adr',\n",
      "       'required_car_parking_spaces', 'total_of_special_requests',\n",
      "       'reservation_status', 'reservation_status_date', 'month',\n",
      "       'arrival_date'],\n",
      "      dtype='object')\n"
     ]
    }
   ],
   "source": [
    "#Problem with the date of the data. As we can see here, the date time is separated into three columns (arrival_date_year,arrival_date_month and arrival_date_day_of_month), we have to combine this three columns into 1 datetime columns :\n",
    "#1. Turn the month (str) into (int) so we can convert them to date time\n",
    "month_df = hotel['arrival_date_month']\n",
    "hotel['month'] = pd.to_datetime(month_df,format=\"%B\").dt.month\n",
    "\n",
    "#combine the datetime \n",
    "dict_date= {'day': hotel['arrival_date_day_of_month'],\n",
    "            'month': hotel['month'],\n",
    "            'year':hotel['arrival_date_year']} \n",
    "\n",
    "hotel['arrival_date']=pd.to_datetime(dict_date)\n",
    "print(hotel.columns)\n"
   ]
  },
  {
   "cell_type": "code",
   "execution_count": 4,
   "id": "99ae3fb0",
   "metadata": {},
   "outputs": [
    {
     "name": "stdout",
     "output_type": "stream",
     "text": [
      "28\n",
      "(189, 34)\n",
      "hotel                                     object\n",
      "is_canceled                                int64\n",
      "lead_time                                  int64\n",
      "arrival_date_year                          int64\n",
      "arrival_date_month                        object\n",
      "arrival_date_week_number                   int64\n",
      "arrival_date_day_of_month                  int64\n",
      "stays_in_weekend_nights                    int64\n",
      "stays_in_week_nights                       int64\n",
      "adults                                     int64\n",
      "children                                 float64\n",
      "babies                                     int64\n",
      "meal                                      object\n",
      "country                                   object\n",
      "market_segment                            object\n",
      "distribution_channel                      object\n",
      "is_repeated_guest                          int64\n",
      "previous_cancellations                     int64\n",
      "previous_bookings_not_canceled             int64\n",
      "reserved_room_type                        object\n",
      "assigned_room_type                        object\n",
      "booking_changes                            int64\n",
      "deposit_type                              object\n",
      "agent                                    float64\n",
      "company                                  float64\n",
      "days_in_waiting_list                       int64\n",
      "customer_type                             object\n",
      "adr                                      float64\n",
      "required_car_parking_spaces                int64\n",
      "total_of_special_requests                  int64\n",
      "reservation_status                        object\n",
      "reservation_status_date                   object\n",
      "month                                      int64\n",
      "arrival_date                      datetime64[ns]\n",
      "dtype: object\n"
     ]
    }
   ],
   "source": [
    "#detect whether there are null data or not#\n",
    "hotel_null = hotel.isna().sum()\n",
    "#drop the null value and checking whether the null value is really dropped. \n",
    "hotel = hotel.dropna()\n",
    "\n",
    "#detect whether there are duplicated value and drop them \n",
    "print(hotel.duplicated().sum())\n",
    "hotel=hotel.drop_duplicates()\n",
    "print(hotel.shape)\n",
    "\n",
    "#examine the data type\n",
    "print(hotel.dtypes)\n",
    "#change the data type \n",
    "hotel['children']=hotel['children'].astype('int64')\n",
    "hotel['agent']=hotel['agent'].astype('object')\n",
    "hotel['company']=hotel['company'].astype('object')\n",
    "\n",
    "#re-examine the data type \n"
   ]
  },
  {
   "cell_type": "code",
   "execution_count": 5,
   "id": "a7f89519",
   "metadata": {},
   "outputs": [
    {
     "name": "stdout",
     "output_type": "stream",
     "text": [
      "Index(['hotel', 'is_canceled', 'lead_time', 'arrival_date_week_number',\n",
      "       'stays_in_weekend_nights', 'stays_in_week_nights', 'adults', 'children',\n",
      "       'babies', 'meal', 'country', 'market_segment', 'distribution_channel',\n",
      "       'is_repeated_guest', 'previous_cancellations',\n",
      "       'previous_bookings_not_canceled', 'reserved_room_type',\n",
      "       'assigned_room_type', 'booking_changes', 'deposit_type', 'agent',\n",
      "       'company', 'days_in_waiting_list', 'customer_type', 'adr',\n",
      "       'required_car_parking_spaces', 'total_of_special_requests',\n",
      "       'reservation_status', 'reservation_status_date', 'arrival_date'],\n",
      "      dtype='object')\n"
     ]
    }
   ],
   "source": [
    "#drop the combined columns and unecessary column (reservation_status and is_canceled have the same meaning) \n",
    "hotel = hotel.drop(columns=['arrival_date_year','arrival_date_day_of_month','arrival_date_month','month'])\n",
    "print(hotel.columns)"
   ]
  },
  {
   "cell_type": "code",
   "execution_count": 34,
   "id": "7fcc805b",
   "metadata": {},
   "outputs": [
    {
     "name": "stdout",
     "output_type": "stream",
     "text": [
      "   week  counts\n",
      "0    45      57\n",
      "1    46      50\n",
      "2    33       9\n",
      "3    19       7\n",
      "4    21       6\n"
     ]
    },
    {
     "data": {
      "text/plain": [
       "Text(46, 55, 'week 45 is the busiest week')"
      ]
     },
     "execution_count": 34,
     "metadata": {},
     "output_type": "execute_result"
    },
    {
     "data": {
      "image/png": "[encoded data removed]",
      "text/plain": [
       "<Figure size 432x288 with 1 Axes>"
      ]
     },
     "metadata": {
      "needs_background": "light"
     },
     "output_type": "display_data"
    }
   ],
   "source": [
    "#filter the data that we want to use \n",
    "week_res = hotel['arrival_date_week_number'].value_counts().rename_axis('week').reset_index(name='counts')\n",
    "print(week_res.head())\n",
    "sns.lineplot(x=week_res['week'],y=week_res['counts'],color='#BF9270')\n",
    "plt.title('number of customer arrival per week')\n",
    "t= (\"week 45 is \" \n",
    "    \"the busiest week\")\n",
    "plt.text(46,55,t,fontsize=10,ha='left',wrap=True,bbox=dict(boxstyle=\"square,pad=0.3\",fc=\"white\"))"
   ]
  },
  {
   "cell_type": "code",
   "execution_count": 31,
   "id": "948cac22",
   "metadata": {},
   "outputs": [
    {
     "data": {
      "image/png": "[encoded data removed]",
      "text/plain": [
       "<Figure size 432x288 with 1 Axes>"
      ]
     },
     "metadata": {
      "needs_background": "light"
     },
     "output_type": "display_data"
    }
   ],
   "source": [
    "pal= {'E':'#BF9270','A':'#E3B7A0','D':'#EDCDBB','H':'#FDCEB9','C':'#FFEDDB'}\n",
    "sns.countplot(y=hotel['reserved_room_type'],palette=pal)\n",
    "plt.title('the most reserved room type')\n",
    "plt.show()"
   ]
  },
  {
   "cell_type": "code",
   "execution_count": 37,
   "id": "74cb9280",
   "metadata": {},
   "outputs": [
    {
     "name": "stdout",
     "output_type": "stream",
     "text": [
      "   week  num_canceled\n",
      "0    46            10\n",
      "1    33             1\n",
      "2     3             1\n",
      "3    20             1\n",
      "4    25             1\n",
      "5    45             1\n",
      "6    15             1\n"
     ]
    }
   ],
   "source": [
    "canceled = hotel.loc[hotel['is_canceled']== 1,'arrival_date_week_number'].value_counts().rename_axis('week').reset_index(name='num_canceled')\n",
    "print(canceled)"
   ]
  },
  {
   "cell_type": "code",
   "execution_count": 47,
   "id": "d831d2b2",
   "metadata": {},
   "outputs": [
    {
     "data": {
      "text/plain": [
       "46    0.411765\n",
       "33    0.078431\n",
       "44    0.078431\n",
       "45    0.078431\n",
       "21    0.058824\n",
       "3     0.039216\n",
       "5     0.039216\n",
       "42    0.039216\n",
       "49    0.039216\n",
       "52    0.039216\n",
       "1     0.019608\n",
       "15    0.019608\n",
       "19    0.019608\n",
       "28    0.019608\n",
       "39    0.019608\n",
       "Name: arrival_date_week_number, dtype: float64"
      ]
     },
     "execution_count": 47,
     "metadata": {},
     "output_type": "execute_result"
    }
   ],
   "source": [
    "hotel.loc[hotel['reserved_room_type']==hotel['assigned_room_type'],'is_aligned'] = True\n",
    "hotel.loc[hotel['reserved_room_type']!=hotel['assigned_room_type'],'is_aligned'] = False\n",
    "hotel.loc[hotel['is_aligned']==False,'arrival_date_week_number'].value_counts(normalize=True)"
   ]
  },
  {
   "cell_type": "code",
   "execution_count": 49,
   "id": "1fa6a52e",
   "metadata": {},
   "outputs": [
    {
     "data": {
      "text/plain": [
       "A    41\n",
       "E     9\n",
       "Name: reserved_room_type, dtype: int64"
      ]
     },
     "execution_count": 49,
     "metadata": {},
     "output_type": "execute_result"
    }
   ],
   "source": [
    "hotel.loc[hotel['arrival_date_week_number']== 46,'reserved_room_type'].value_counts()"
   ]
  },
  {
   "cell_type": "code",
   "execution_count": 50,
   "id": "36893862",
   "metadata": {},
   "outputs": [
    {
     "data": {
      "text/plain": [
       "A    21\n",
       "E    11\n",
       "C     8\n",
       "D     7\n",
       "F     2\n",
       "B     1\n",
       "Name: assigned_room_type, dtype: int64"
      ]
     },
     "execution_count": 50,
     "metadata": {},
     "output_type": "execute_result"
    }
   ],
   "source": [
    "hotel.loc[hotel['arrival_date_week_number']== 46,'assigned_room_type'].value_counts()"
   ]
  },
  {
   "cell_type": "code",
   "execution_count": null,
   "id": "3ba36810",
   "metadata": {},
   "outputs": [],
   "source": []
  },
  {
   "cell_type": "code",
   "execution_count": null,
   "id": "3f5b3b18",
   "metadata": {},
   "outputs": [],
   "source": []
  },
  {
   "cell_type": "code",
   "execution_count": null,
   "id": "671aaf49",
   "metadata": {},
   "outputs": [],
   "source": []
  },
  {
   "cell_type": "code",
   "execution_count": null,
   "id": "6fc0c6d9",
   "metadata": {},
   "outputs": [],
   "source": []
  }
 ],
 "metadata": {
  "kernelspec": {
   "display_name": "Python 3",
   "language": "python",
   "name": "python3"
  },
  "language_info": {
   "codemirror_mode": {
    "name": "ipython",
    "version": 3
   },
   "file_extension": ".py",
   "mimetype": "text/x-python",
   "name": "python",
   "nbconvert_exporter": "python",
   "pygments_lexer": "ipython3",
   "version": "3.8.8"
  }
 },
 "nbformat": 4,
 "nbformat_minor": 5
}
