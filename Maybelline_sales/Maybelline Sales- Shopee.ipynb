{
 "cells": [
  {
   "cell_type": "code",
   "execution_count": 1,
   "id": "0fc642cc",
   "metadata": {},
   "outputs": [],
   "source": [
    "import requests\n",
    "import csv"
   ]
  },
  {
   "cell_type": "code",
   "execution_count": 33,
   "id": "c85486b1",
   "metadata": {},
   "outputs": [
    {
     "name": "stdout",
     "output_type": "stream",
     "text": [
      "nama: Maybelline x ITZY Stage Bundle-(Fit Me Foundation 220, SSMI 365 Lipstik, Lash Lift Mascara) Makeup harga: 40640000000 terjual: 135 Likes: 1126\n",
      "nama: Maybelline Color Sensational Powder Matte Lipstick Almond Pink harga: 5010000000 terjual: 128 Likes: 3895\n",
      "nama: Maybelline Color Sensational Satin Lipstick Make Up Thriller Nude (Lipstick Satin Warna Intens) harga: 4970000000 terjual: 123 Likes: 5296\n",
      "nama: Maybelline Fit Me Blush BEST SHADE (Nude Peach & Golden Rose) - Hasil Matte Dan Tahan Lama harga: 11210000000 terjual: 120 Likes: 1225\n",
      "nama: Maybelline Color Sensational Made For All Lipstick Make Up (Lipstick Untuk Semua Warna Kulit) harga: 3780000000 terjual: 119 Likes: 3948\n",
      "nama: Maybelline Color Sensational Satin Lipstick Make Up Risk Taker Coral (Lipstick Satin Warna Intens) harga: 4970000000 terjual: 116 Likes: 3680\n",
      "nama: Maybelline Itz Bold Bundle(Color Sensational Ultimatte Lipstik 799 + Lash Lift Mascara) - Makeup harga: 23080000000 terjual: 111 Likes: 822\n",
      "nama: Maybelline Fit Me Loose Finishing Powder Foundation Make Up - 25 Medium (Matte Foundation) harga: 14900000000 terjual: 108 Likes: 3264\n",
      "nama: Maybelline Fit Me Matte + Poreless Powder Foundation Make Up - 220 Natural Beige (Matte Foundation) harga: 14900000000 terjual: 107 Likes: 4272\n",
      "nama: Maybelline Fit Me! Liquid Concealer MakeUp - 30 Honey (Dengan Coverage Tinggi & Hasil Natural) harga: 9390000000 terjual: 106 Likes: 5132\n",
      "nama: Maybelline Fit Me Matte + Poreless Powder Foundation Make Up - 130 Buff Beige (Matte Foundation) harga: 14900000000 terjual: 97 Likes: 5284\n",
      "nama: Maybelline Perfect Glam Makeup Look (Liquid Eyeliner & Liquid Lipstick - 06. Best Babe) harga: 9630000000 terjual: 96 Likes: 964\n",
      "nama: Maybelline Fashion Brow Duo Shaper Make Up - Grey (Pensil Alis Dengan Hasil Natural & Tahan Lama) harga: 8010000000 terjual: 86 Likes: 3434\n",
      "nama: FREE 2 ITZY PC! Maybelline Be Bold 2 Bundle - CS Ultimatte Lipstik 799 & Hypercurl Mascara - Make Up harga: 10270000000 terjual: 84 Likes: 746\n",
      "nama: Maybelline Fit Me Matte + Poreless Powder Foundation Make Up - 120 Classic Ivory (Matte Foundation) harga: 14900000000 terjual: 82 Likes: 3108\n",
      "nama: Maybelline Volum Express Hypercurl Mascara + Instant Age Rewind Light harga: 11330000000 terjual: 81 Likes: 2664\n",
      "nama: Maybelline Fit Me Matte & Poreless Liq Foundation 220 Natural Beige + Baby Skin Pore Eraser Primer harga: 25700000000 terjual: 79 Likes: 9443\n",
      "nama: Maybelline Fashion Brow Duo Shaper Make Up - Brown (Pensil Alis Dengan Hasil Natural & Tahan Lama) harga: 8010000000 terjual: 75 Likes: 6533\n",
      "nama: Maybelline Color Sensational Creamy Mattes Lipstick - Touch Of Spice harga: 4970000000 terjual: 74 Likes: 2997\n",
      "nama: Maybelline Fit Me! Liquid Concealer MakeUp - 36 Golden (Dengan Coverage Tinggi & Hasil Natural) harga: 9390000000 terjual: 70 Likes: 3394\n",
      "nama: FREE ITZY HAT! Maybelline Not Shy Set 1(CS Ultimatte Lipstik 1199+ Fit Me Foundation 220) -Makeup harga: 11920000000 terjual: 68 Likes: 1432\n",
      "nama: Maybelline Mystery Box 3 harga: 19000000000 terjual: 67 Likes: 185\n",
      "nama: Maybelline Baby Skin Instant Pink Transformer Primer Make Up  harga: 17350000000 terjual: 65 Likes: 2145\n",
      "nama: Maybelline Mystery Box 5 harga: 19000000000 terjual: 65 Likes: 174\n",
      "nama: Maybelline Sensational Cushion Matte Sunset Affair + Hypercurl Mascara - Makeup harga: 12400000000 terjual: 65 Likes: 185\n",
      "nama: FREE ITZY POUCH!  Maybelline Not Shy Set 2(CS Ultimatte Lipstik 1199+ Fit Me Foundation 220) -Makeup harga: 11920000000 terjual: 63 Likes: 675\n",
      "nama: Maybelline Fit Me Matte & Poreless Liq Foundation 128 Warm Nude + Baby Skin Pore Eraser Primer harga: 25700000000 terjual: 59 Likes: 3267\n",
      "nama: Maybelline Mystery Box 4 harga: 19000000000 terjual: 48 Likes: 171\n",
      "nama: Maybelline Color Sensational Satin Lipstick Make Up Fearless Plum (Lipstick Satin Warna Intens) harga: 4970000000 terjual: 46 Likes: 4219\n",
      "nama: Maybelline Tattoo Brow Ink Pen Eye Make Up (Untuk Hasil Alis Tampak Tebal Dan Natural) harga: 8840000000 terjual: 44 Likes: 7221\n"
     ]
    }
   ],
   "source": [
    "url='https://shopee.co.id/api/v4/search/search_items'\n",
    "\n",
    "\n",
    "header=['Nama Produk','Harga Produk','Jumlah Terjual','Total Liked']\n",
    "write = csv.writer(open('C:\\\\Users\\\\jesica\\\\Documents\\\\Data analyst 101\\\\maybelline.csv','w',newline=''))\n",
    "write.writerow(header)\n",
    "for page in range(0,120,30):\n",
    "    par={\n",
    "    'by': 'sales',\n",
    "    'entry_point': 'ShopBySearch',\n",
    "    'limit': 30,\n",
    "    'match_id': 62582411,\n",
    "    'newest': page,\n",
    "    'order': 'desc',\n",
    "    'page_type': 'shop',\n",
    "    'scenario':'PAGE_OTHERS',\n",
    "    'version': 2}\n",
    "\n",
    "r= requests.get(url,params=par).json()\n",
    "for x in range(30):\n",
    "    p      = r['items'][x]['item_basic']\n",
    "    nama   = p['name']\n",
    "    harga  = p['price']\n",
    "    terjual=p['sold']\n",
    "    liked=p['liked_count']\n",
    "    print(\"nama:\",nama,\"harga:\",harga,\"terjual:\",terjual,\"Likes:\",liked)\n",
    "    \n",
    "    data=[nama,harga,terjual,liked]\n",
    "    write = csv.writer(open('C:\\\\Users\\\\jesica\\\\Documents\\\\Data analyst 101\\\\maybelline.csv','a',newline=''))\n",
    "    write.writerow(data)\n"
   ]
  },
  {
   "cell_type": "code",
   "execution_count": null,
   "id": "efa316d2",
   "metadata": {},
   "outputs": [],
   "source": []
  },
  {
   "cell_type": "code",
   "execution_count": null,
   "id": "5e3df50f",
   "metadata": {},
   "outputs": [],
   "source": []
  }
 ],
 "metadata": {
  "kernelspec": {
   "display_name": "Python 3",
   "language": "python",
   "name": "python3"
  },
  "language_info": {
   "codemirror_mode": {
    "name": "ipython",
    "version": 3
   },
   "file_extension": ".py",
   "mimetype": "text/x-python",
   "name": "python",
   "nbconvert_exporter": "python",
   "pygments_lexer": "ipython3",
   "version": "3.8.8"
  }
 },
 "nbformat": 4,
 "nbformat_minor": 5
}
